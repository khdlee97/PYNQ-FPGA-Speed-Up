{
 "cells": [
  {
   "cell_type": "markdown",
   "metadata": {},
   "source": [
    "# Setup"
   ]
  },
  {
   "cell_type": "markdown",
   "metadata": {},
   "source": [
    "Will setup overlay and needed libraries"
   ]
  },
  {
   "cell_type": "code",
   "execution_count": 1,
   "metadata": {},
   "outputs": [
    {
     "data": {
      "application/javascript": [
       "\n",
       "require(['notebook/js/codecell'], function(codecell) {\n",
       "  codecell.CodeCell.options_default.highlight_modes[\n",
       "      'magic_text/x-csrc'] = {'reg':[/^%%microblaze/]};\n",
       "  Jupyter.notebook.events.one('kernel_ready.Kernel', function(){\n",
       "      Jupyter.notebook.get_cells().map(function(cell){\n",
       "          if (cell.cell_type == 'code'){ cell.auto_highlight(); } }) ;\n",
       "  });\n",
       "});\n"
      ]
     },
     "metadata": {},
     "output_type": "display_data"
    }
   ],
   "source": [
    "from pynq import Overlay\n",
    "import numpy as np\n",
    "import math\n",
    "import random\n",
    "\n",
    "ru = random.uniform\n",
    "\n",
    "overlay = Overlay('/home/xilinx/pynq/overlays/ParticleSimulator/particleSim.bit')"
   ]
  },
  {
   "cell_type": "code",
   "execution_count": 2,
   "metadata": {},
   "outputs": [],
   "source": [
    "sim = overlay.ParticleSimulator"
   ]
  },
  {
   "cell_type": "code",
   "execution_count": 3,
   "metadata": {},
   "outputs": [],
   "source": [
    "#sim?"
   ]
  },
  {
   "cell_type": "markdown",
   "metadata": {},
   "source": [
    "# Xlnk Array Setup & Initialization"
   ]
  },
  {
   "cell_type": "code",
   "execution_count": 4,
   "metadata": {},
   "outputs": [],
   "source": [
    "from pynq import Xlnk\n",
    "xlnk = Xlnk()"
   ]
  },
  {
   "cell_type": "code",
   "execution_count": 5,
   "metadata": {},
   "outputs": [],
   "source": [
    "#Number of particles\n",
    "l = 20"
   ]
  },
  {
   "cell_type": "code",
   "execution_count": 6,
   "metadata": {},
   "outputs": [],
   "source": [
    "x = xlnk.cma_array(shape=(l,), dtype=np.float32)\n",
    "y = xlnk.cma_array(shape=(l,), dtype=np.float32)\n",
    "z = xlnk.cma_array(shape=(l,), dtype=np.float32)\n",
    "\n",
    "vx = xlnk.cma_array(shape=(l,), dtype=np.float32)\n",
    "vy = xlnk.cma_array(shape=(l,), dtype=np.float32)\n",
    "vz = xlnk.cma_array(shape=(l,), dtype=np.float32)\n",
    "\n",
    "ax = xlnk.cma_array(shape=(l,), dtype=np.float32)\n",
    "ay = xlnk.cma_array(shape=(l,), dtype=np.float32)\n",
    "az = xlnk.cma_array(shape=(l,), dtype=np.float32)\n",
    "\n",
    "dt = xlnk.cma_array(shape=(1,), dtype=np.float32)\n",
    "decayC = xlnk.cma_array(shape=(1,), dtype=np.float32)\n",
    "gravity = xlnk.cma_array(shape=(1,), dtype=np.float32)\n",
    "\n",
    "outx = xlnk.cma_array(shape=(l,), dtype=np.float32)\n",
    "outy = xlnk.cma_array(shape=(l,), dtype=np.float32)\n",
    "outz = xlnk.cma_array(shape=(l,), dtype=np.float32)\n",
    "outvx = xlnk.cma_array(shape=(l,), dtype=np.float32)\n",
    "outvy = xlnk.cma_array(shape=(l,), dtype=np.float32)\n",
    "outvz = xlnk.cma_array(shape=(l,), dtype=np.float32)"
   ]
  },
  {
   "cell_type": "code",
   "execution_count": 7,
   "metadata": {},
   "outputs": [],
   "source": [
    "graphLimits = 1000\n",
    "\n",
    "decayC[0] = 1\n",
    "gravity[0] = -0.01\n",
    "\n",
    "for i in range(l):\n",
    "    x[i] = ru(0,graphLimits)\n",
    "    y[i] = ru(0,graphLimits)\n",
    "    z[i] = ru(0,graphLimits)\n",
    "    \n",
    "    vx[i] = ru(0,1)\n",
    "    vy[i] = ru(0,1)\n",
    "    vz[i] = ru(0,1)\n",
    "    \n",
    "    ax[i] = 0\n",
    "    ay[i] = 0\n",
    "    az[i] = 0\n"
   ]
  },
  {
   "cell_type": "code",
   "execution_count": 8,
   "metadata": {},
   "outputs": [],
   "source": [
    "dt[0] = 0.01"
   ]
  },
  {
   "cell_type": "markdown",
   "metadata": {},
   "source": [
    "# Start Simulation"
   ]
  },
  {
   "cell_type": "code",
   "execution_count": 9,
   "metadata": {},
   "outputs": [],
   "source": [
    "sim.write(0x58, dt.physical_address)\n",
    "sim.write(0x60, decayC.physical_address)\n",
    "sim.write(0x68, gravity.physical_address)\n",
    "sim.write(0x70, graphLimits)\n",
    "sim.write(0x78, l)\n",
    "\n",
    "sim.write(0x10, x.physical_address)\n",
    "sim.write(0x18, vx.physical_address)\n",
    "sim.write(0x20, ax.physical_address)\n",
    "sim.write(0x28, y.physical_address)\n",
    "sim.write(0x30, vy.physical_address)\n",
    "sim.write(0x38, ay.physical_address)\n",
    "sim.write(0x40, z.physical_address)\n",
    "sim.write(0x48, vz.physical_address)\n",
    "sim.write(0x50, az.physical_address)\n",
    "\n",
    "sim.write(0x80, outx.physical_address)\n",
    "sim.write(0x88, outy.physical_address)\n",
    "sim.write(0x90, outz.physical_address)\n",
    "sim.write(0x98, outvx.physical_address)\n",
    "sim.write(0xa8, outvy.physical_address)\n",
    "sim.write(0xa8, outvz.physical_address)"
   ]
  },
  {
   "cell_type": "code",
   "execution_count": 10,
   "metadata": {},
   "outputs": [],
   "source": [
    "sim.write(0x0, 1)"
   ]
  },
  {
   "cell_type": "markdown",
   "metadata": {},
   "source": [
    "\n",
    "# Check Overlay"
   ]
  },
  {
   "cell_type": "code",
   "execution_count": 11,
   "metadata": {},
   "outputs": [
    {
     "data": {
      "text/plain": [
       "PynqBuffer([ 462.10415649,  172.10713196,  443.61120605,  718.08813477,\n",
       "             277.32003784,  576.73852539,  745.65814209,  847.01330566,\n",
       "              89.0941391 ,  888.20458984,  296.5430603 ,  397.73043823,\n",
       "             418.34802246,  179.57983398,  205.21559143,  373.85516357,\n",
       "             900.39727783,  355.29656982,  299.16958618,  713.67858887], dtype=float32)"
      ]
     },
     "execution_count": 11,
     "metadata": {},
     "output_type": "execute_result"
    }
   ],
   "source": [
    "z"
   ]
  },
  {
   "cell_type": "code",
   "execution_count": 12,
   "metadata": {},
   "outputs": [
    {
     "data": {
      "text/plain": [
       "PynqBuffer([ 0.62495661,  0.08306537,  0.33621415,  0.65063578,\n",
       "             0.6435287 ,  0.46355584,  0.49605986,  0.69857079,\n",
       "             0.00726168,  0.30381033,  0.83680362,  0.13682598,\n",
       "             0.5987314 ,  0.68831313,  0.57153672,  0.37147623,\n",
       "             0.03061851,  0.38769236,  0.59837675,  0.03264199], dtype=float32)"
      ]
     },
     "execution_count": 12,
     "metadata": {},
     "output_type": "execute_result"
    }
   ],
   "source": [
    "vz"
   ]
  },
  {
   "cell_type": "code",
   "execution_count": 13,
   "metadata": {},
   "outputs": [
    {
     "data": {
      "text/plain": [
       "PynqBuffer([ 0.,  0.,  0.,  0.,  0.,  0.,  0.,  0.,  0.,  0.,  0.,  0.,\n",
       "             0.,  0.,  0.,  0.,  0.,  0.,  0.,  0.], dtype=float32)"
      ]
     },
     "execution_count": 13,
     "metadata": {},
     "output_type": "execute_result"
    }
   ],
   "source": [
    "az"
   ]
  },
  {
   "cell_type": "code",
   "execution_count": 14,
   "metadata": {},
   "outputs": [
    {
     "data": {
      "text/plain": [
       "PynqBuffer([ 462.1104126 ,  172.10629272,  443.61456299,  718.081604  ,\n",
       "             277.32647705,  576.73388672,  745.66308594,  847.00634766,\n",
       "              89.09420776,  888.20153809,  296.55142212,  397.72906494,\n",
       "             418.35400391,  179.57295227,  205.22129822,  373.85144043,\n",
       "             900.39758301,  355.29269409,  299.17556763,  713.67828369], dtype=float32)"
      ]
     },
     "execution_count": 14,
     "metadata": {},
     "output_type": "execute_result"
    }
   ],
   "source": [
    "outz"
   ]
  },
  {
   "cell_type": "code",
   "execution_count": 15,
   "metadata": {},
   "outputs": [
    {
     "data": {
      "text/plain": [
       "PynqBuffer([-0.61033446, -0.03483969, -0.81235087, -0.64698595,\n",
       "            -0.77111095, -0.49978453, -0.93739384, -0.81439197,\n",
       "            -0.40333852, -0.92348409, -0.98759788, -0.71827674,\n",
       "            -0.74632496, -0.47111759, -0.08714072, -0.79713351,\n",
       "            -0.53636277, -0.06307212, -0.285476  , -0.43119621], dtype=float32)"
      ]
     },
     "execution_count": 15,
     "metadata": {},
     "output_type": "execute_result"
    }
   ],
   "source": [
    "outvz"
   ]
  },
  {
   "cell_type": "code",
   "execution_count": 16,
   "metadata": {},
   "outputs": [],
   "source": [
    "for i in range(l):\n",
    "    z[i] = outz[i]"
   ]
  },
  {
   "cell_type": "code",
   "execution_count": 17,
   "metadata": {},
   "outputs": [
    {
     "data": {
      "text/plain": [
       "PynqBuffer([ 462.1104126 ,  172.10629272,  443.61456299,  718.081604  ,\n",
       "             277.32647705,  576.73388672,  745.66308594,  847.00634766,\n",
       "              89.09420776,  888.20153809,  296.55142212,  397.72906494,\n",
       "             418.35400391,  179.57295227,  205.22129822,  373.85144043,\n",
       "             900.39758301,  355.29269409,  299.17556763,  713.67828369], dtype=float32)"
      ]
     },
     "execution_count": 17,
     "metadata": {},
     "output_type": "execute_result"
    }
   ],
   "source": [
    "z"
   ]
  },
  {
   "cell_type": "code",
   "execution_count": 18,
   "metadata": {},
   "outputs": [],
   "source": [
    "sim.write(0x58, dt.physical_address)\n",
    "sim.write(0x60, decayC.physical_address)\n",
    "sim.write(0x68, gravity.physical_address)\n",
    "sim.write(0x70, graphLimits)\n",
    "sim.write(0x78, l)\n",
    "\n",
    "sim.write(0x10, x.physical_address)\n",
    "sim.write(0x18, vx.physical_address)\n",
    "sim.write(0x20, ax.physical_address)\n",
    "sim.write(0x28, y.physical_address)\n",
    "sim.write(0x30, vy.physical_address)\n",
    "sim.write(0x38, ay.physical_address)\n",
    "sim.write(0x40, z.physical_address)\n",
    "sim.write(0x48, vz.physical_address)\n",
    "sim.write(0x50, az.physical_address)\n",
    "\n",
    "sim.write(0x80, outx.physical_address)\n",
    "sim.write(0x88, outy.physical_address)\n",
    "sim.write(0x90, outz.physical_address)\n",
    "sim.write(0x98, outvx.physical_address)\n",
    "sim.write(0xa8, outvy.physical_address)\n",
    "sim.write(0xa8, outvz.physical_address)"
   ]
  },
  {
   "cell_type": "code",
   "execution_count": 19,
   "metadata": {},
   "outputs": [],
   "source": [
    "sim.write(0x0,1)"
   ]
  },
  {
   "cell_type": "code",
   "execution_count": 20,
   "metadata": {},
   "outputs": [
    {
     "data": {
      "text/plain": [
       "PynqBuffer([ 462.1166687 ,  172.10545349,  443.61791992,  718.07507324,\n",
       "             277.33291626,  576.72924805,  745.66802979,  846.99938965,\n",
       "              89.09427643,  888.19848633,  296.55978394,  397.72769165,\n",
       "             418.35998535,  179.56607056,  205.227005  ,  373.84771729,\n",
       "             900.39788818,  355.28881836,  299.18154907,  713.67797852], dtype=float32)"
      ]
     },
     "execution_count": 20,
     "metadata": {},
     "output_type": "execute_result"
    }
   ],
   "source": [
    "outz"
   ]
  },
  {
   "cell_type": "code",
   "execution_count": 21,
   "metadata": {},
   "outputs": [],
   "source": [
    "for i in range(l):\n",
    "    z[i] = outz[i]"
   ]
  },
  {
   "cell_type": "code",
   "execution_count": 22,
   "metadata": {},
   "outputs": [],
   "source": [
    "sim.write(0x40, z.physical_address)\n",
    "sim.write(0x0,1)"
   ]
  },
  {
   "cell_type": "code",
   "execution_count": 23,
   "metadata": {},
   "outputs": [
    {
     "data": {
      "text/plain": [
       "PynqBuffer([ 462.1229248 ,  172.10461426,  443.62127686,  718.06854248,\n",
       "             277.33935547,  576.72460938,  745.67297363,  846.99243164,\n",
       "              89.09434509,  888.19543457,  296.56814575,  397.72631836,\n",
       "             418.3659668 ,  179.55918884,  205.23271179,  373.84399414,\n",
       "             900.39819336,  355.28494263,  299.18753052,  713.67767334], dtype=float32)"
      ]
     },
     "execution_count": 23,
     "metadata": {},
     "output_type": "execute_result"
    }
   ],
   "source": [
    "outz"
   ]
  },
  {
   "cell_type": "markdown",
   "metadata": {},
   "source": [
    "# Define Functions"
   ]
  },
  {
   "cell_type": "code",
   "execution_count": 24,
   "metadata": {},
   "outputs": [],
   "source": [
    "def overlayStep(counter):\n",
    "    for i in range (0,counter,1):\n",
    "\n",
    "\n",
    "        sim.write(0x10, x.physical_address)\n",
    "        sim.write(0x18, vx.physical_address)\n",
    "\n",
    "        sim.write(0x28, y.physical_address)\n",
    "        sim.write(0x30, vy.physical_address)\n",
    "\n",
    "        sim.write(0x40, z.physical_address)\n",
    "        sim.write(0x48, vz.physical_address)\n",
    "\n",
    "        sim.write(0x0,1)\n",
    "    \n",
    "        for i in range(l):\n",
    "            x[i] = outx[i]\n",
    "            y[i] = outy[i]\n",
    "            z[i] = outz[i]\n",
    "        \n",
    "            vx[i] = outvx[i]\n",
    "            vy[i] = outvy[i]\n",
    "            vz[i] = outvz[i]    "
   ]
  },
  {
   "cell_type": "code",
   "execution_count": 25,
   "metadata": {},
   "outputs": [],
   "source": [
    "def PsStep(counter):\n",
    "    \n",
    "    #number of particles\n",
    "    count=20\n",
    "    \n",
    "    #collision detection range (particle to particle)\n",
    "    d=5\n",
    "    \n",
    "    for i in range(counter):\n",
    "        ax.fill(0)\n",
    "        ay.fill(0)\n",
    "        az.fill(0)\n",
    "    \n",
    "        az.fill(gravity[0])\n",
    "    \n",
    "        #Quantize small movements so that balls do not float outside of box\n",
    "        for i in range(count):\n",
    "            if vz[i] < 1 and z[i] < 1:\n",
    "                az[i] = 0\n",
    "            if vy[i] < 1 and y[i] < 1:\n",
    "                ay[i] = 0.0\n",
    "            if vx[i] < 1 and x[i] < 1:\n",
    "                ax[i] = 0\n",
    "\n",
    "        for i in range(count):\n",
    "            vx[i] += (ax[i] * dt)\n",
    "            vy[i] += (ay[i] * dt)\n",
    "            vz[i] += (az[i] * dt)\n",
    "    \n",
    "        for i in range(count):\n",
    "            x[i] += (vx[i] * dt)\n",
    "            y[i] += (vy[i] * dt)\n",
    "            z[i] += (vz[i] * dt)\n",
    "        \n",
    "        xnext = x\n",
    "        ynext = y\n",
    "        znext = z\n",
    "        \n",
    "        \n",
    "        #Calculate Next position to predict if Boundary Collision Occurs\n",
    "        for i in range (count):\n",
    "\n",
    "            \n",
    "            xnext[i] += vx[i] * 1*dt\n",
    "            ynext[i] += vy[i] * 1*dt\n",
    "            znext[i] += vz[i] * 1*dt\n",
    "        \n",
    "        \n",
    "        #Check Boundary Collision Condition\n",
    "        for i in range(count):\n",
    "            if xnext[i] < 0:\n",
    "                vx[i] *= -1 * np.exp(-decayC)\n",
    "            if xnext[i] > graphLimits:\n",
    "                vx[i] *= -1 * np.exp(-decayC)\n",
    "        \n",
    "            if ynext[i] < 0:\n",
    "                vy[i] *= -1 * np.exp(-decayC)\n",
    "            if ynext[i] > graphLimits:\n",
    "                vy[i] *= -1 * np.exp(-decayC)\n",
    "        \n",
    "            if znext[i] < 0:\n",
    "                vz[i] *= -1 * np.exp(-decayC)\n",
    "            if znext[i] > graphLimits:\n",
    "                vz[i] *= -1 * np.exp(-decayC)\n",
    "    \n",
    "        #When are on floor X and Y movement should be dampened\n",
    "        for i in range(count):\n",
    "            if z[i] < 0.2:\n",
    "                vx[i] *= np.exp(-decayC/10)\n",
    "                vy[i] *= np.exp(-decayC/10)\n",
    "    \n",
    "        #Collision with other particles\n",
    "        for i in range(count):\n",
    "            for j in range (i+1, count, 1):\n",
    "                if x[j] - d < x[i] < x[j] + d and y[j] - d < y[i] < y[j] + d and z[j] - d < z[i] < z[j] + d:\n",
    "                    ax[i] *= -1 \n",
    "                    ay[i] *= -1 \n",
    "                    az[i] *= -1 \n",
    "                    vx[i] *= -1 \n",
    "                    vy[i] *= -1 \n",
    "                    vz[i] *= -1 \n",
    "                \n",
    "                    ax[j] *= -1 \n",
    "                    ay[j] *= -1 \n",
    "                    az[j] *= -1 \n",
    "                    vx[j] *= -1 \n",
    "                    vy[j] *= -1 \n",
    "                    vz[j] *= -1     "
   ]
  },
  {
   "cell_type": "markdown",
   "metadata": {},
   "source": [
    "# Timeit Evaluation"
   ]
  },
  {
   "cell_type": "code",
   "execution_count": 40,
   "metadata": {},
   "outputs": [
    {
     "name": "stdout",
     "output_type": "stream",
     "text": [
      "1 loop, best of 3: 532 ms per loop\n"
     ]
    }
   ],
   "source": [
    "%%timeit\n",
    "overlayStep(1000)"
   ]
  },
  {
   "cell_type": "code",
   "execution_count": 41,
   "metadata": {},
   "outputs": [
    {
     "name": "stdout",
     "output_type": "stream",
     "text": [
      "1 loop, best of 3: 1min 50s per loop\n"
     ]
    }
   ],
   "source": [
    "%%timeit\n",
    "PsStep(1000)"
   ]
  },
  {
   "cell_type": "code",
   "execution_count": null,
   "metadata": {},
   "outputs": [],
   "source": []
  }
 ],
 "metadata": {
  "kernelspec": {
   "display_name": "Python 3",
   "language": "python",
   "name": "python3"
  },
  "language_info": {
   "codemirror_mode": {
    "name": "ipython",
    "version": 3
   },
   "file_extension": ".py",
   "mimetype": "text/x-python",
   "name": "python",
   "nbconvert_exporter": "python",
   "pygments_lexer": "ipython3",
   "version": "3.6.5"
  }
 },
 "nbformat": 4,
 "nbformat_minor": 2
}
